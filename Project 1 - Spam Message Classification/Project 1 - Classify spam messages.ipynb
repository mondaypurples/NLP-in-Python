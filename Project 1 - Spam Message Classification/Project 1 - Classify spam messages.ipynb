{
 "cells": [
  {
   "cell_type": "markdown",
   "metadata": {},
   "source": [
    "## Project objective"
   ]
  },
  {
   "cell_type": "markdown",
   "metadata": {},
   "source": [
    "The goal of spam message classification is to accurately categorize messages as either \"spam\" or \"not spam\" so that they can be automatically filtered and potentially blocked or sent to a separate folder."
   ]
  },
  {
   "cell_type": "markdown",
   "metadata": {},
   "source": [
    "## Load the dataset"
   ]
  },
  {
   "cell_type": "code",
   "execution_count": 1,
   "metadata": {
    "execution": {
     "iopub.execute_input": "2023-02-01T16:37:54.856430Z",
     "iopub.status.busy": "2023-02-01T16:37:54.855949Z",
     "iopub.status.idle": "2023-02-01T16:37:54.930201Z",
     "shell.execute_reply": "2023-02-01T16:37:54.929409Z",
     "shell.execute_reply.started": "2023-02-01T16:37:54.856391Z"
    }
   },
   "outputs": [
    {
     "data": {
      "text/html": [
       "<div>\n",
       "<style scoped>\n",
       "    .dataframe tbody tr th:only-of-type {\n",
       "        vertical-align: middle;\n",
       "    }\n",
       "\n",
       "    .dataframe tbody tr th {\n",
       "        vertical-align: top;\n",
       "    }\n",
       "\n",
       "    .dataframe thead th {\n",
       "        text-align: right;\n",
       "    }\n",
       "</style>\n",
       "<table border=\"1\" class=\"dataframe\">\n",
       "  <thead>\n",
       "    <tr style=\"text-align: right;\">\n",
       "      <th></th>\n",
       "      <th>label</th>\n",
       "      <th>message</th>\n",
       "      <th>length</th>\n",
       "      <th>punct</th>\n",
       "    </tr>\n",
       "  </thead>\n",
       "  <tbody>\n",
       "    <tr>\n",
       "      <th>0</th>\n",
       "      <td>ham</td>\n",
       "      <td>Go until jurong point, crazy.. Available only ...</td>\n",
       "      <td>111</td>\n",
       "      <td>9</td>\n",
       "    </tr>\n",
       "    <tr>\n",
       "      <th>1</th>\n",
       "      <td>ham</td>\n",
       "      <td>Ok lar... Joking wif u oni...</td>\n",
       "      <td>29</td>\n",
       "      <td>6</td>\n",
       "    </tr>\n",
       "    <tr>\n",
       "      <th>2</th>\n",
       "      <td>spam</td>\n",
       "      <td>Free entry in 2 a wkly comp to win FA Cup fina...</td>\n",
       "      <td>155</td>\n",
       "      <td>6</td>\n",
       "    </tr>\n",
       "    <tr>\n",
       "      <th>3</th>\n",
       "      <td>ham</td>\n",
       "      <td>U dun say so early hor... U c already then say...</td>\n",
       "      <td>49</td>\n",
       "      <td>6</td>\n",
       "    </tr>\n",
       "    <tr>\n",
       "      <th>4</th>\n",
       "      <td>ham</td>\n",
       "      <td>Nah I don't think he goes to usf, he lives aro...</td>\n",
       "      <td>61</td>\n",
       "      <td>2</td>\n",
       "    </tr>\n",
       "    <tr>\n",
       "      <th>...</th>\n",
       "      <td>...</td>\n",
       "      <td>...</td>\n",
       "      <td>...</td>\n",
       "      <td>...</td>\n",
       "    </tr>\n",
       "    <tr>\n",
       "      <th>5567</th>\n",
       "      <td>spam</td>\n",
       "      <td>This is the 2nd time we have tried 2 contact u...</td>\n",
       "      <td>160</td>\n",
       "      <td>8</td>\n",
       "    </tr>\n",
       "    <tr>\n",
       "      <th>5568</th>\n",
       "      <td>ham</td>\n",
       "      <td>Will ü b going to esplanade fr home?</td>\n",
       "      <td>36</td>\n",
       "      <td>1</td>\n",
       "    </tr>\n",
       "    <tr>\n",
       "      <th>5569</th>\n",
       "      <td>ham</td>\n",
       "      <td>Pity, * was in mood for that. So...any other s...</td>\n",
       "      <td>57</td>\n",
       "      <td>7</td>\n",
       "    </tr>\n",
       "    <tr>\n",
       "      <th>5570</th>\n",
       "      <td>ham</td>\n",
       "      <td>The guy did some bitching but I acted like i'd...</td>\n",
       "      <td>125</td>\n",
       "      <td>1</td>\n",
       "    </tr>\n",
       "    <tr>\n",
       "      <th>5571</th>\n",
       "      <td>ham</td>\n",
       "      <td>Rofl. Its true to its name</td>\n",
       "      <td>26</td>\n",
       "      <td>1</td>\n",
       "    </tr>\n",
       "  </tbody>\n",
       "</table>\n",
       "<p>5572 rows × 4 columns</p>\n",
       "</div>"
      ],
      "text/plain": [
       "     label                                            message  length  punct\n",
       "0      ham  Go until jurong point, crazy.. Available only ...     111      9\n",
       "1      ham                      Ok lar... Joking wif u oni...      29      6\n",
       "2     spam  Free entry in 2 a wkly comp to win FA Cup fina...     155      6\n",
       "3      ham  U dun say so early hor... U c already then say...      49      6\n",
       "4      ham  Nah I don't think he goes to usf, he lives aro...      61      2\n",
       "...    ...                                                ...     ...    ...\n",
       "5567  spam  This is the 2nd time we have tried 2 contact u...     160      8\n",
       "5568   ham               Will ü b going to esplanade fr home?      36      1\n",
       "5569   ham  Pity, * was in mood for that. So...any other s...      57      7\n",
       "5570   ham  The guy did some bitching but I acted like i'd...     125      1\n",
       "5571   ham                         Rofl. Its true to its name      26      1\n",
       "\n",
       "[5572 rows x 4 columns]"
      ]
     },
     "execution_count": 1,
     "metadata": {},
     "output_type": "execute_result"
    }
   ],
   "source": [
    "import pandas as pd\n",
    "import numpy as np\n",
    "\n",
    "messages = pd.read_csv(\"/Users/brindhamanivannan/Desktop/NLP/Project 1 - Spam Message Classification/spam.tsv\", sep='\\t')\n",
    "messages"
   ]
  },
  {
   "cell_type": "markdown",
   "metadata": {},
   "source": [
    "## Explore the dataset and preprocess the dataset"
   ]
  },
  {
   "cell_type": "code",
   "execution_count": 2,
   "metadata": {
    "execution": {
     "iopub.execute_input": "2023-02-01T16:38:29.043578Z",
     "iopub.status.busy": "2023-02-01T16:38:29.042794Z",
     "iopub.status.idle": "2023-02-01T16:38:29.079993Z",
     "shell.execute_reply": "2023-02-01T16:38:29.078920Z",
     "shell.execute_reply.started": "2023-02-01T16:38:29.043542Z"
    }
   },
   "outputs": [
    {
     "name": "stdout",
     "output_type": "stream",
     "text": [
      "<class 'pandas.core.frame.DataFrame'>\n",
      "RangeIndex: 5572 entries, 0 to 5571\n",
      "Data columns (total 4 columns):\n",
      " #   Column   Non-Null Count  Dtype \n",
      "---  ------   --------------  ----- \n",
      " 0   label    5572 non-null   object\n",
      " 1   message  5572 non-null   object\n",
      " 2   length   5572 non-null   int64 \n",
      " 3   punct    5572 non-null   int64 \n",
      "dtypes: int64(2), object(2)\n",
      "memory usage: 174.2+ KB\n"
     ]
    }
   ],
   "source": [
    "messages.info()"
   ]
  },
  {
   "cell_type": "code",
   "execution_count": 3,
   "metadata": {
    "execution": {
     "iopub.execute_input": "2023-02-01T16:38:40.919277Z",
     "iopub.status.busy": "2023-02-01T16:38:40.918814Z",
     "iopub.status.idle": "2023-02-01T16:38:40.926565Z",
     "shell.execute_reply": "2023-02-01T16:38:40.925420Z",
     "shell.execute_reply.started": "2023-02-01T16:38:40.919170Z"
    }
   },
   "outputs": [
    {
     "data": {
      "text/plain": [
       "(5572, 4)"
      ]
     },
     "execution_count": 3,
     "metadata": {},
     "output_type": "execute_result"
    }
   ],
   "source": [
    "messages.shape"
   ]
  },
  {
   "cell_type": "code",
   "execution_count": 4,
   "metadata": {
    "execution": {
     "iopub.execute_input": "2023-02-01T17:07:45.338969Z",
     "iopub.status.busy": "2023-02-01T17:07:45.338552Z",
     "iopub.status.idle": "2023-02-01T17:07:45.352304Z",
     "shell.execute_reply": "2023-02-01T17:07:45.350780Z",
     "shell.execute_reply.started": "2023-02-01T17:07:45.338936Z"
    }
   },
   "outputs": [
    {
     "data": {
      "text/plain": [
       "label      0\n",
       "message    0\n",
       "length     0\n",
       "punct      0\n",
       "dtype: int64"
      ]
     },
     "execution_count": 4,
     "metadata": {},
     "output_type": "execute_result"
    }
   ],
   "source": [
    "messages.isna().sum()"
   ]
  },
  {
   "cell_type": "code",
   "execution_count": 5,
   "metadata": {
    "execution": {
     "iopub.execute_input": "2023-02-01T17:08:13.916561Z",
     "iopub.status.busy": "2023-02-01T17:08:13.916044Z",
     "iopub.status.idle": "2023-02-01T17:08:13.946285Z",
     "shell.execute_reply": "2023-02-01T17:08:13.944821Z",
     "shell.execute_reply.started": "2023-02-01T17:08:13.916521Z"
    }
   },
   "outputs": [
    {
     "data": {
      "text/html": [
       "<div>\n",
       "<style scoped>\n",
       "    .dataframe tbody tr th:only-of-type {\n",
       "        vertical-align: middle;\n",
       "    }\n",
       "\n",
       "    .dataframe tbody tr th {\n",
       "        vertical-align: top;\n",
       "    }\n",
       "\n",
       "    .dataframe thead th {\n",
       "        text-align: right;\n",
       "    }\n",
       "</style>\n",
       "<table border=\"1\" class=\"dataframe\">\n",
       "  <thead>\n",
       "    <tr style=\"text-align: right;\">\n",
       "      <th></th>\n",
       "      <th>length</th>\n",
       "      <th>punct</th>\n",
       "    </tr>\n",
       "  </thead>\n",
       "  <tbody>\n",
       "    <tr>\n",
       "      <th>count</th>\n",
       "      <td>5572.000000</td>\n",
       "      <td>5572.000000</td>\n",
       "    </tr>\n",
       "    <tr>\n",
       "      <th>mean</th>\n",
       "      <td>80.489950</td>\n",
       "      <td>4.177495</td>\n",
       "    </tr>\n",
       "    <tr>\n",
       "      <th>std</th>\n",
       "      <td>59.942907</td>\n",
       "      <td>4.623919</td>\n",
       "    </tr>\n",
       "    <tr>\n",
       "      <th>min</th>\n",
       "      <td>2.000000</td>\n",
       "      <td>0.000000</td>\n",
       "    </tr>\n",
       "    <tr>\n",
       "      <th>25%</th>\n",
       "      <td>36.000000</td>\n",
       "      <td>2.000000</td>\n",
       "    </tr>\n",
       "    <tr>\n",
       "      <th>50%</th>\n",
       "      <td>62.000000</td>\n",
       "      <td>3.000000</td>\n",
       "    </tr>\n",
       "    <tr>\n",
       "      <th>75%</th>\n",
       "      <td>122.000000</td>\n",
       "      <td>6.000000</td>\n",
       "    </tr>\n",
       "    <tr>\n",
       "      <th>max</th>\n",
       "      <td>910.000000</td>\n",
       "      <td>133.000000</td>\n",
       "    </tr>\n",
       "  </tbody>\n",
       "</table>\n",
       "</div>"
      ],
      "text/plain": [
       "            length        punct\n",
       "count  5572.000000  5572.000000\n",
       "mean     80.489950     4.177495\n",
       "std      59.942907     4.623919\n",
       "min       2.000000     0.000000\n",
       "25%      36.000000     2.000000\n",
       "50%      62.000000     3.000000\n",
       "75%     122.000000     6.000000\n",
       "max     910.000000   133.000000"
      ]
     },
     "execution_count": 5,
     "metadata": {},
     "output_type": "execute_result"
    }
   ],
   "source": [
    "messages.describe()"
   ]
  },
  {
   "cell_type": "code",
   "execution_count": 6,
   "metadata": {
    "execution": {
     "iopub.execute_input": "2023-02-01T17:08:52.958455Z",
     "iopub.status.busy": "2023-02-01T17:08:52.957862Z",
     "iopub.status.idle": "2023-02-01T17:08:52.977567Z",
     "shell.execute_reply": "2023-02-01T17:08:52.975811Z",
     "shell.execute_reply.started": "2023-02-01T17:08:52.958405Z"
    }
   },
   "outputs": [
    {
     "data": {
      "text/html": [
       "<div>\n",
       "<style scoped>\n",
       "    .dataframe tbody tr th:only-of-type {\n",
       "        vertical-align: middle;\n",
       "    }\n",
       "\n",
       "    .dataframe tbody tr th {\n",
       "        vertical-align: top;\n",
       "    }\n",
       "\n",
       "    .dataframe thead th {\n",
       "        text-align: right;\n",
       "    }\n",
       "</style>\n",
       "<table border=\"1\" class=\"dataframe\">\n",
       "  <thead>\n",
       "    <tr style=\"text-align: right;\">\n",
       "      <th></th>\n",
       "      <th>label</th>\n",
       "      <th>message</th>\n",
       "      <th>length</th>\n",
       "      <th>punct</th>\n",
       "    </tr>\n",
       "  </thead>\n",
       "  <tbody>\n",
       "    <tr>\n",
       "      <th>0</th>\n",
       "      <td>ham</td>\n",
       "      <td>Go until jurong point, crazy.. Available only ...</td>\n",
       "      <td>111</td>\n",
       "      <td>9</td>\n",
       "    </tr>\n",
       "    <tr>\n",
       "      <th>1</th>\n",
       "      <td>ham</td>\n",
       "      <td>Ok lar... Joking wif u oni...</td>\n",
       "      <td>29</td>\n",
       "      <td>6</td>\n",
       "    </tr>\n",
       "    <tr>\n",
       "      <th>2</th>\n",
       "      <td>spam</td>\n",
       "      <td>Free entry in 2 a wkly comp to win FA Cup fina...</td>\n",
       "      <td>155</td>\n",
       "      <td>6</td>\n",
       "    </tr>\n",
       "    <tr>\n",
       "      <th>3</th>\n",
       "      <td>ham</td>\n",
       "      <td>U dun say so early hor... U c already then say...</td>\n",
       "      <td>49</td>\n",
       "      <td>6</td>\n",
       "    </tr>\n",
       "    <tr>\n",
       "      <th>4</th>\n",
       "      <td>ham</td>\n",
       "      <td>Nah I don't think he goes to usf, he lives aro...</td>\n",
       "      <td>61</td>\n",
       "      <td>2</td>\n",
       "    </tr>\n",
       "  </tbody>\n",
       "</table>\n",
       "</div>"
      ],
      "text/plain": [
       "  label                                            message  length  punct\n",
       "0   ham  Go until jurong point, crazy.. Available only ...     111      9\n",
       "1   ham                      Ok lar... Joking wif u oni...      29      6\n",
       "2  spam  Free entry in 2 a wkly comp to win FA Cup fina...     155      6\n",
       "3   ham  U dun say so early hor... U c already then say...      49      6\n",
       "4   ham  Nah I don't think he goes to usf, he lives aro...      61      2"
      ]
     },
     "execution_count": 6,
     "metadata": {},
     "output_type": "execute_result"
    }
   ],
   "source": [
    "messages.head()"
   ]
  },
  {
   "cell_type": "code",
   "execution_count": 7,
   "metadata": {
    "execution": {
     "iopub.execute_input": "2023-02-01T17:09:03.490027Z",
     "iopub.status.busy": "2023-02-01T17:09:03.489605Z",
     "iopub.status.idle": "2023-02-01T17:09:03.506514Z",
     "shell.execute_reply": "2023-02-01T17:09:03.504899Z",
     "shell.execute_reply.started": "2023-02-01T17:09:03.489991Z"
    }
   },
   "outputs": [
    {
     "data": {
      "text/html": [
       "<div>\n",
       "<style scoped>\n",
       "    .dataframe tbody tr th:only-of-type {\n",
       "        vertical-align: middle;\n",
       "    }\n",
       "\n",
       "    .dataframe tbody tr th {\n",
       "        vertical-align: top;\n",
       "    }\n",
       "\n",
       "    .dataframe thead th {\n",
       "        text-align: right;\n",
       "    }\n",
       "</style>\n",
       "<table border=\"1\" class=\"dataframe\">\n",
       "  <thead>\n",
       "    <tr style=\"text-align: right;\">\n",
       "      <th></th>\n",
       "      <th>label</th>\n",
       "      <th>message</th>\n",
       "      <th>length</th>\n",
       "      <th>punct</th>\n",
       "    </tr>\n",
       "  </thead>\n",
       "  <tbody>\n",
       "    <tr>\n",
       "      <th>5567</th>\n",
       "      <td>spam</td>\n",
       "      <td>This is the 2nd time we have tried 2 contact u...</td>\n",
       "      <td>160</td>\n",
       "      <td>8</td>\n",
       "    </tr>\n",
       "    <tr>\n",
       "      <th>5568</th>\n",
       "      <td>ham</td>\n",
       "      <td>Will ü b going to esplanade fr home?</td>\n",
       "      <td>36</td>\n",
       "      <td>1</td>\n",
       "    </tr>\n",
       "    <tr>\n",
       "      <th>5569</th>\n",
       "      <td>ham</td>\n",
       "      <td>Pity, * was in mood for that. So...any other s...</td>\n",
       "      <td>57</td>\n",
       "      <td>7</td>\n",
       "    </tr>\n",
       "    <tr>\n",
       "      <th>5570</th>\n",
       "      <td>ham</td>\n",
       "      <td>The guy did some bitching but I acted like i'd...</td>\n",
       "      <td>125</td>\n",
       "      <td>1</td>\n",
       "    </tr>\n",
       "    <tr>\n",
       "      <th>5571</th>\n",
       "      <td>ham</td>\n",
       "      <td>Rofl. Its true to its name</td>\n",
       "      <td>26</td>\n",
       "      <td>1</td>\n",
       "    </tr>\n",
       "  </tbody>\n",
       "</table>\n",
       "</div>"
      ],
      "text/plain": [
       "     label                                            message  length  punct\n",
       "5567  spam  This is the 2nd time we have tried 2 contact u...     160      8\n",
       "5568   ham               Will ü b going to esplanade fr home?      36      1\n",
       "5569   ham  Pity, * was in mood for that. So...any other s...      57      7\n",
       "5570   ham  The guy did some bitching but I acted like i'd...     125      1\n",
       "5571   ham                         Rofl. Its true to its name      26      1"
      ]
     },
     "execution_count": 7,
     "metadata": {},
     "output_type": "execute_result"
    }
   ],
   "source": [
    "messages.tail()"
   ]
  },
  {
   "cell_type": "code",
   "execution_count": 8,
   "metadata": {
    "execution": {
     "iopub.execute_input": "2023-02-01T17:09:36.535085Z",
     "iopub.status.busy": "2023-02-01T17:09:36.534617Z",
     "iopub.status.idle": "2023-02-01T17:09:36.546955Z",
     "shell.execute_reply": "2023-02-01T17:09:36.545549Z",
     "shell.execute_reply.started": "2023-02-01T17:09:36.535044Z"
    }
   },
   "outputs": [
    {
     "data": {
      "text/plain": [
       "ham     86.593683\n",
       "spam    13.406317\n",
       "Name: label, dtype: float64"
      ]
     },
     "execution_count": 8,
     "metadata": {},
     "output_type": "execute_result"
    }
   ],
   "source": [
    "messages['label'].value_counts() *100 / (len(messages))"
   ]
  },
  {
   "cell_type": "markdown",
   "metadata": {},
   "source": [
    "The dataset appears to be an imbalanced dataset with 86% ham messages and only 13% spam messages.\n"
   ]
  },
  {
   "cell_type": "code",
   "execution_count": 9,
   "metadata": {
    "execution": {
     "iopub.execute_input": "2023-02-01T17:11:51.617511Z",
     "iopub.status.busy": "2023-02-01T17:11:51.617014Z",
     "iopub.status.idle": "2023-02-01T17:11:51.627873Z",
     "shell.execute_reply": "2023-02-01T17:11:51.626502Z",
     "shell.execute_reply.started": "2023-02-01T17:11:51.617473Z"
    }
   },
   "outputs": [
    {
     "data": {
      "text/plain": [
       "ham     4825\n",
       "spam     747\n",
       "Name: label, dtype: int64"
      ]
     },
     "execution_count": 9,
     "metadata": {},
     "output_type": "execute_result"
    }
   ],
   "source": [
    "messages['label'].value_counts()"
   ]
  },
  {
   "cell_type": "code",
   "execution_count": 10,
   "metadata": {
    "execution": {
     "iopub.execute_input": "2023-02-01T17:13:35.783931Z",
     "iopub.status.busy": "2023-02-01T17:13:35.783511Z",
     "iopub.status.idle": "2023-02-01T17:13:35.796522Z",
     "shell.execute_reply": "2023-02-01T17:13:35.795209Z",
     "shell.execute_reply.started": "2023-02-01T17:13:35.783898Z"
    }
   },
   "outputs": [
    {
     "data": {
      "text/plain": [
       "(4825, 4)"
      ]
     },
     "execution_count": 10,
     "metadata": {},
     "output_type": "execute_result"
    }
   ],
   "source": [
    "ham = messages[messages['label'] == 'ham']\n",
    "ham.shape"
   ]
  },
  {
   "cell_type": "code",
   "execution_count": 11,
   "metadata": {
    "execution": {
     "iopub.execute_input": "2023-02-01T17:13:45.100003Z",
     "iopub.status.busy": "2023-02-01T17:13:45.099420Z",
     "iopub.status.idle": "2023-02-01T17:13:45.111507Z",
     "shell.execute_reply": "2023-02-01T17:13:45.110192Z",
     "shell.execute_reply.started": "2023-02-01T17:13:45.099956Z"
    }
   },
   "outputs": [
    {
     "data": {
      "text/plain": [
       "(747, 4)"
      ]
     },
     "execution_count": 11,
     "metadata": {},
     "output_type": "execute_result"
    }
   ],
   "source": [
    "spam = messages[messages['label'] == 'spam']\n",
    "spam.shape"
   ]
  },
  {
   "cell_type": "code",
   "execution_count": 12,
   "metadata": {
    "execution": {
     "iopub.execute_input": "2023-02-01T17:14:22.423553Z",
     "iopub.status.busy": "2023-02-01T17:14:22.423091Z",
     "iopub.status.idle": "2023-02-01T17:14:22.431097Z",
     "shell.execute_reply": "2023-02-01T17:14:22.429884Z",
     "shell.execute_reply.started": "2023-02-01T17:14:22.423518Z"
    }
   },
   "outputs": [
    {
     "data": {
      "text/plain": [
       "747"
      ]
     },
     "execution_count": 12,
     "metadata": {},
     "output_type": "execute_result"
    }
   ],
   "source": [
    "spam.shape[0]"
   ]
  },
  {
   "cell_type": "code",
   "execution_count": 13,
   "metadata": {
    "execution": {
     "iopub.execute_input": "2023-02-01T17:14:39.675403Z",
     "iopub.status.busy": "2023-02-01T17:14:39.674168Z",
     "iopub.status.idle": "2023-02-01T17:14:39.686855Z",
     "shell.execute_reply": "2023-02-01T17:14:39.685177Z",
     "shell.execute_reply.started": "2023-02-01T17:14:39.675322Z"
    }
   },
   "outputs": [
    {
     "data": {
      "text/plain": [
       "(747, 4)"
      ]
     },
     "execution_count": 13,
     "metadata": {},
     "output_type": "execute_result"
    }
   ],
   "source": [
    "ham = ham.sample(spam.shape[0])\n",
    "ham.shape"
   ]
  },
  {
   "cell_type": "code",
   "execution_count": 14,
   "metadata": {
    "execution": {
     "iopub.execute_input": "2023-02-01T17:15:16.835003Z",
     "iopub.status.busy": "2023-02-01T17:15:16.834412Z",
     "iopub.status.idle": "2023-02-01T17:15:16.857880Z",
     "shell.execute_reply": "2023-02-01T17:15:16.856315Z",
     "shell.execute_reply.started": "2023-02-01T17:15:16.834955Z"
    }
   },
   "outputs": [
    {
     "data": {
      "text/html": [
       "<div>\n",
       "<style scoped>\n",
       "    .dataframe tbody tr th:only-of-type {\n",
       "        vertical-align: middle;\n",
       "    }\n",
       "\n",
       "    .dataframe tbody tr th {\n",
       "        vertical-align: top;\n",
       "    }\n",
       "\n",
       "    .dataframe thead th {\n",
       "        text-align: right;\n",
       "    }\n",
       "</style>\n",
       "<table border=\"1\" class=\"dataframe\">\n",
       "  <thead>\n",
       "    <tr style=\"text-align: right;\">\n",
       "      <th></th>\n",
       "      <th>label</th>\n",
       "      <th>message</th>\n",
       "      <th>length</th>\n",
       "      <th>punct</th>\n",
       "    </tr>\n",
       "  </thead>\n",
       "  <tbody>\n",
       "    <tr>\n",
       "      <th>2088</th>\n",
       "      <td>ham</td>\n",
       "      <td>alright babe, justthought id sayhey! how u do...</td>\n",
       "      <td>136</td>\n",
       "      <td>6</td>\n",
       "    </tr>\n",
       "    <tr>\n",
       "      <th>1967</th>\n",
       "      <td>ham</td>\n",
       "      <td>What's a feathery bowa? Is that something guys...</td>\n",
       "      <td>76</td>\n",
       "      <td>4</td>\n",
       "    </tr>\n",
       "    <tr>\n",
       "      <th>4121</th>\n",
       "      <td>ham</td>\n",
       "      <td>Babe! How goes that day ? What are you up to ?...</td>\n",
       "      <td>126</td>\n",
       "      <td>13</td>\n",
       "    </tr>\n",
       "    <tr>\n",
       "      <th>4070</th>\n",
       "      <td>ham</td>\n",
       "      <td>Hope youre not having too much fun without me...</td>\n",
       "      <td>75</td>\n",
       "      <td>2</td>\n",
       "    </tr>\n",
       "    <tr>\n",
       "      <th>2812</th>\n",
       "      <td>ham</td>\n",
       "      <td>Thinkin about someone is all good. No drugs fo...</td>\n",
       "      <td>52</td>\n",
       "      <td>1</td>\n",
       "    </tr>\n",
       "    <tr>\n",
       "      <th>...</th>\n",
       "      <td>...</td>\n",
       "      <td>...</td>\n",
       "      <td>...</td>\n",
       "      <td>...</td>\n",
       "    </tr>\n",
       "    <tr>\n",
       "      <th>5499</th>\n",
       "      <td>ham</td>\n",
       "      <td>Now get step 2 outta the way. Congrats again.</td>\n",
       "      <td>45</td>\n",
       "      <td>2</td>\n",
       "    </tr>\n",
       "    <tr>\n",
       "      <th>849</th>\n",
       "      <td>ham</td>\n",
       "      <td>Yeah there's barely enough room for the two of...</td>\n",
       "      <td>105</td>\n",
       "      <td>4</td>\n",
       "    </tr>\n",
       "    <tr>\n",
       "      <th>1152</th>\n",
       "      <td>ham</td>\n",
       "      <td>Sorry, I'll call later</td>\n",
       "      <td>22</td>\n",
       "      <td>2</td>\n",
       "    </tr>\n",
       "    <tr>\n",
       "      <th>1769</th>\n",
       "      <td>ham</td>\n",
       "      <td>How. Its a little difficult but its a simple w...</td>\n",
       "      <td>68</td>\n",
       "      <td>1</td>\n",
       "    </tr>\n",
       "    <tr>\n",
       "      <th>4023</th>\n",
       "      <td>ham</td>\n",
       "      <td>U gd lor go shopping i got stuff to do. U wan ...</td>\n",
       "      <td>89</td>\n",
       "      <td>5</td>\n",
       "    </tr>\n",
       "  </tbody>\n",
       "</table>\n",
       "<p>747 rows × 4 columns</p>\n",
       "</div>"
      ],
      "text/plain": [
       "     label                                            message  length  punct\n",
       "2088   ham  alright babe, justthought id sayhey! how u do...     136      6\n",
       "1967   ham  What's a feathery bowa? Is that something guys...      76      4\n",
       "4121   ham  Babe! How goes that day ? What are you up to ?...     126     13\n",
       "4070   ham  Hope youre not having too much fun without me...      75      2\n",
       "2812   ham  Thinkin about someone is all good. No drugs fo...      52      1\n",
       "...    ...                                                ...     ...    ...\n",
       "5499   ham      Now get step 2 outta the way. Congrats again.      45      2\n",
       "849    ham  Yeah there's barely enough room for the two of...     105      4\n",
       "1152   ham                             Sorry, I'll call later      22      2\n",
       "1769   ham  How. Its a little difficult but its a simple w...      68      1\n",
       "4023   ham  U gd lor go shopping i got stuff to do. U wan ...      89      5\n",
       "\n",
       "[747 rows x 4 columns]"
      ]
     },
     "execution_count": 14,
     "metadata": {},
     "output_type": "execute_result"
    }
   ],
   "source": [
    "ham"
   ]
  },
  {
   "cell_type": "code",
   "execution_count": 15,
   "metadata": {
    "execution": {
     "iopub.execute_input": "2023-02-01T17:15:21.505294Z",
     "iopub.status.busy": "2023-02-01T17:15:21.504615Z",
     "iopub.status.idle": "2023-02-01T17:15:21.522852Z",
     "shell.execute_reply": "2023-02-01T17:15:21.521536Z",
     "shell.execute_reply.started": "2023-02-01T17:15:21.505243Z"
    }
   },
   "outputs": [
    {
     "data": {
      "text/html": [
       "<div>\n",
       "<style scoped>\n",
       "    .dataframe tbody tr th:only-of-type {\n",
       "        vertical-align: middle;\n",
       "    }\n",
       "\n",
       "    .dataframe tbody tr th {\n",
       "        vertical-align: top;\n",
       "    }\n",
       "\n",
       "    .dataframe thead th {\n",
       "        text-align: right;\n",
       "    }\n",
       "</style>\n",
       "<table border=\"1\" class=\"dataframe\">\n",
       "  <thead>\n",
       "    <tr style=\"text-align: right;\">\n",
       "      <th></th>\n",
       "      <th>label</th>\n",
       "      <th>message</th>\n",
       "      <th>length</th>\n",
       "      <th>punct</th>\n",
       "    </tr>\n",
       "  </thead>\n",
       "  <tbody>\n",
       "    <tr>\n",
       "      <th>2</th>\n",
       "      <td>spam</td>\n",
       "      <td>Free entry in 2 a wkly comp to win FA Cup fina...</td>\n",
       "      <td>155</td>\n",
       "      <td>6</td>\n",
       "    </tr>\n",
       "    <tr>\n",
       "      <th>5</th>\n",
       "      <td>spam</td>\n",
       "      <td>FreeMsg Hey there darling it's been 3 week's n...</td>\n",
       "      <td>147</td>\n",
       "      <td>8</td>\n",
       "    </tr>\n",
       "    <tr>\n",
       "      <th>8</th>\n",
       "      <td>spam</td>\n",
       "      <td>WINNER!! As a valued network customer you have...</td>\n",
       "      <td>157</td>\n",
       "      <td>6</td>\n",
       "    </tr>\n",
       "    <tr>\n",
       "      <th>9</th>\n",
       "      <td>spam</td>\n",
       "      <td>Had your mobile 11 months or more? U R entitle...</td>\n",
       "      <td>154</td>\n",
       "      <td>2</td>\n",
       "    </tr>\n",
       "    <tr>\n",
       "      <th>11</th>\n",
       "      <td>spam</td>\n",
       "      <td>SIX chances to win CASH! From 100 to 20,000 po...</td>\n",
       "      <td>136</td>\n",
       "      <td>8</td>\n",
       "    </tr>\n",
       "    <tr>\n",
       "      <th>...</th>\n",
       "      <td>...</td>\n",
       "      <td>...</td>\n",
       "      <td>...</td>\n",
       "      <td>...</td>\n",
       "    </tr>\n",
       "    <tr>\n",
       "      <th>5537</th>\n",
       "      <td>spam</td>\n",
       "      <td>Want explicit SEX in 30 secs? Ring 02073162414...</td>\n",
       "      <td>90</td>\n",
       "      <td>3</td>\n",
       "    </tr>\n",
       "    <tr>\n",
       "      <th>5540</th>\n",
       "      <td>spam</td>\n",
       "      <td>ASKED 3MOBILE IF 0870 CHATLINES INCLU IN FREE ...</td>\n",
       "      <td>158</td>\n",
       "      <td>5</td>\n",
       "    </tr>\n",
       "    <tr>\n",
       "      <th>5547</th>\n",
       "      <td>spam</td>\n",
       "      <td>Had your contract mobile 11 Mnths? Latest Moto...</td>\n",
       "      <td>160</td>\n",
       "      <td>8</td>\n",
       "    </tr>\n",
       "    <tr>\n",
       "      <th>5566</th>\n",
       "      <td>spam</td>\n",
       "      <td>REMINDER FROM O2: To get 2.50 pounds free call...</td>\n",
       "      <td>147</td>\n",
       "      <td>3</td>\n",
       "    </tr>\n",
       "    <tr>\n",
       "      <th>5567</th>\n",
       "      <td>spam</td>\n",
       "      <td>This is the 2nd time we have tried 2 contact u...</td>\n",
       "      <td>160</td>\n",
       "      <td>8</td>\n",
       "    </tr>\n",
       "  </tbody>\n",
       "</table>\n",
       "<p>747 rows × 4 columns</p>\n",
       "</div>"
      ],
      "text/plain": [
       "     label                                            message  length  punct\n",
       "2     spam  Free entry in 2 a wkly comp to win FA Cup fina...     155      6\n",
       "5     spam  FreeMsg Hey there darling it's been 3 week's n...     147      8\n",
       "8     spam  WINNER!! As a valued network customer you have...     157      6\n",
       "9     spam  Had your mobile 11 months or more? U R entitle...     154      2\n",
       "11    spam  SIX chances to win CASH! From 100 to 20,000 po...     136      8\n",
       "...    ...                                                ...     ...    ...\n",
       "5537  spam  Want explicit SEX in 30 secs? Ring 02073162414...      90      3\n",
       "5540  spam  ASKED 3MOBILE IF 0870 CHATLINES INCLU IN FREE ...     158      5\n",
       "5547  spam  Had your contract mobile 11 Mnths? Latest Moto...     160      8\n",
       "5566  spam  REMINDER FROM O2: To get 2.50 pounds free call...     147      3\n",
       "5567  spam  This is the 2nd time we have tried 2 contact u...     160      8\n",
       "\n",
       "[747 rows x 4 columns]"
      ]
     },
     "execution_count": 15,
     "metadata": {},
     "output_type": "execute_result"
    }
   ],
   "source": [
    "spam"
   ]
  },
  {
   "cell_type": "code",
   "execution_count": 16,
   "metadata": {
    "execution": {
     "iopub.execute_input": "2023-02-01T17:15:58.683375Z",
     "iopub.status.busy": "2023-02-01T17:15:58.682013Z",
     "iopub.status.idle": "2023-02-01T17:15:58.700576Z",
     "shell.execute_reply": "2023-02-01T17:15:58.699397Z",
     "shell.execute_reply.started": "2023-02-01T17:15:58.683310Z"
    }
   },
   "outputs": [
    {
     "data": {
      "text/html": [
       "<div>\n",
       "<style scoped>\n",
       "    .dataframe tbody tr th:only-of-type {\n",
       "        vertical-align: middle;\n",
       "    }\n",
       "\n",
       "    .dataframe tbody tr th {\n",
       "        vertical-align: top;\n",
       "    }\n",
       "\n",
       "    .dataframe thead th {\n",
       "        text-align: right;\n",
       "    }\n",
       "</style>\n",
       "<table border=\"1\" class=\"dataframe\">\n",
       "  <thead>\n",
       "    <tr style=\"text-align: right;\">\n",
       "      <th></th>\n",
       "      <th>label</th>\n",
       "      <th>message</th>\n",
       "      <th>length</th>\n",
       "      <th>punct</th>\n",
       "    </tr>\n",
       "  </thead>\n",
       "  <tbody>\n",
       "    <tr>\n",
       "      <th>0</th>\n",
       "      <td>ham</td>\n",
       "      <td>alright babe, justthought id sayhey! how u do...</td>\n",
       "      <td>136</td>\n",
       "      <td>6</td>\n",
       "    </tr>\n",
       "    <tr>\n",
       "      <th>1</th>\n",
       "      <td>ham</td>\n",
       "      <td>What's a feathery bowa? Is that something guys...</td>\n",
       "      <td>76</td>\n",
       "      <td>4</td>\n",
       "    </tr>\n",
       "    <tr>\n",
       "      <th>2</th>\n",
       "      <td>ham</td>\n",
       "      <td>Babe! How goes that day ? What are you up to ?...</td>\n",
       "      <td>126</td>\n",
       "      <td>13</td>\n",
       "    </tr>\n",
       "    <tr>\n",
       "      <th>3</th>\n",
       "      <td>ham</td>\n",
       "      <td>Hope youre not having too much fun without me...</td>\n",
       "      <td>75</td>\n",
       "      <td>2</td>\n",
       "    </tr>\n",
       "    <tr>\n",
       "      <th>4</th>\n",
       "      <td>ham</td>\n",
       "      <td>Thinkin about someone is all good. No drugs fo...</td>\n",
       "      <td>52</td>\n",
       "      <td>1</td>\n",
       "    </tr>\n",
       "    <tr>\n",
       "      <th>...</th>\n",
       "      <td>...</td>\n",
       "      <td>...</td>\n",
       "      <td>...</td>\n",
       "      <td>...</td>\n",
       "    </tr>\n",
       "    <tr>\n",
       "      <th>1489</th>\n",
       "      <td>spam</td>\n",
       "      <td>Want explicit SEX in 30 secs? Ring 02073162414...</td>\n",
       "      <td>90</td>\n",
       "      <td>3</td>\n",
       "    </tr>\n",
       "    <tr>\n",
       "      <th>1490</th>\n",
       "      <td>spam</td>\n",
       "      <td>ASKED 3MOBILE IF 0870 CHATLINES INCLU IN FREE ...</td>\n",
       "      <td>158</td>\n",
       "      <td>5</td>\n",
       "    </tr>\n",
       "    <tr>\n",
       "      <th>1491</th>\n",
       "      <td>spam</td>\n",
       "      <td>Had your contract mobile 11 Mnths? Latest Moto...</td>\n",
       "      <td>160</td>\n",
       "      <td>8</td>\n",
       "    </tr>\n",
       "    <tr>\n",
       "      <th>1492</th>\n",
       "      <td>spam</td>\n",
       "      <td>REMINDER FROM O2: To get 2.50 pounds free call...</td>\n",
       "      <td>147</td>\n",
       "      <td>3</td>\n",
       "    </tr>\n",
       "    <tr>\n",
       "      <th>1493</th>\n",
       "      <td>spam</td>\n",
       "      <td>This is the 2nd time we have tried 2 contact u...</td>\n",
       "      <td>160</td>\n",
       "      <td>8</td>\n",
       "    </tr>\n",
       "  </tbody>\n",
       "</table>\n",
       "<p>1494 rows × 4 columns</p>\n",
       "</div>"
      ],
      "text/plain": [
       "     label                                            message  length  punct\n",
       "0      ham  alright babe, justthought id sayhey! how u do...     136      6\n",
       "1      ham  What's a feathery bowa? Is that something guys...      76      4\n",
       "2      ham  Babe! How goes that day ? What are you up to ?...     126     13\n",
       "3      ham  Hope youre not having too much fun without me...      75      2\n",
       "4      ham  Thinkin about someone is all good. No drugs fo...      52      1\n",
       "...    ...                                                ...     ...    ...\n",
       "1489  spam  Want explicit SEX in 30 secs? Ring 02073162414...      90      3\n",
       "1490  spam  ASKED 3MOBILE IF 0870 CHATLINES INCLU IN FREE ...     158      5\n",
       "1491  spam  Had your contract mobile 11 Mnths? Latest Moto...     160      8\n",
       "1492  spam  REMINDER FROM O2: To get 2.50 pounds free call...     147      3\n",
       "1493  spam  This is the 2nd time we have tried 2 contact u...     160      8\n",
       "\n",
       "[1494 rows x 4 columns]"
      ]
     },
     "execution_count": 16,
     "metadata": {},
     "output_type": "execute_result"
    }
   ],
   "source": [
    "messages = ham.append(spam, ignore_index=True)\n",
    "messages"
   ]
  },
  {
   "cell_type": "code",
   "execution_count": 17,
   "metadata": {
    "execution": {
     "iopub.execute_input": "2023-02-01T17:16:28.993528Z",
     "iopub.status.busy": "2023-02-01T17:16:28.993090Z",
     "iopub.status.idle": "2023-02-01T17:16:29.004242Z",
     "shell.execute_reply": "2023-02-01T17:16:29.002859Z",
     "shell.execute_reply.started": "2023-02-01T17:16:28.993493Z"
    }
   },
   "outputs": [
    {
     "data": {
      "text/plain": [
       "ham     747\n",
       "spam    747\n",
       "Name: label, dtype: int64"
      ]
     },
     "execution_count": 17,
     "metadata": {},
     "output_type": "execute_result"
    }
   ],
   "source": [
    "messages['label'].value_counts()"
   ]
  },
  {
   "cell_type": "markdown",
   "metadata": {},
   "source": [
    "Now we have a balanced dataset.\n"
   ]
  },
  {
   "cell_type": "markdown",
   "metadata": {},
   "source": [
    "## Visualize the length column\n",
    "\n"
   ]
  },
  {
   "cell_type": "code",
   "execution_count": 18,
   "metadata": {
    "execution": {
     "iopub.execute_input": "2023-02-01T17:24:11.219397Z",
     "iopub.status.busy": "2023-02-01T17:24:11.218959Z",
     "iopub.status.idle": "2023-02-01T17:24:11.501211Z",
     "shell.execute_reply": "2023-02-01T17:24:11.500399Z",
     "shell.execute_reply.started": "2023-02-01T17:24:11.219331Z"
    }
   },
   "outputs": [
    {
     "data": {
      "image/png": "[encoded data removed]",
      "text/plain": [
       "<Figure size 432x288 with 1 Axes>"
      ]
     },
     "metadata": {
      "needs_background": "light"
     },
     "output_type": "display_data"
    }
   ],
   "source": [
    "import matplotlib.pyplot as plt\n",
    "plt.hist(messages[messages['label'] == 'ham']['length'], bins=100, alpha=0.7)\n",
    "plt.show()         "
   ]
  },
  {
   "cell_type": "code",
   "execution_count": 19,
   "metadata": {
    "execution": {
     "iopub.execute_input": "2023-02-01T17:24:55.620355Z",
     "iopub.status.busy": "2023-02-01T17:24:55.619931Z",
     "iopub.status.idle": "2023-02-01T17:24:55.905458Z",
     "shell.execute_reply": "2023-02-01T17:24:55.904189Z",
     "shell.execute_reply.started": "2023-02-01T17:24:55.620306Z"
    }
   },
   "outputs": [
    {
     "data": {
      "image/png": "[encoded data removed]",
      "text/plain": [
       "<Figure size 432x288 with 1 Axes>"
      ]
     },
     "metadata": {
      "needs_background": "light"
     },
     "output_type": "display_data"
    }
   ],
   "source": [
    "plt.hist(messages[messages['label'] == 'spam']['length'], bins=100, alpha=0.7)\n",
    "plt.show()  "
   ]
  },
  {
   "cell_type": "code",
   "execution_count": 20,
   "metadata": {
    "execution": {
     "iopub.execute_input": "2023-02-01T17:25:51.121132Z",
     "iopub.status.busy": "2023-02-01T17:25:51.120729Z",
     "iopub.status.idle": "2023-02-01T17:25:51.631516Z",
     "shell.execute_reply": "2023-02-01T17:25:51.630379Z",
     "shell.execute_reply.started": "2023-02-01T17:25:51.121100Z"
    }
   },
   "outputs": [
    {
     "data": {
      "image/png": "[encoded data removed]",
      "text/plain": [
       "<Figure size 432x288 with 1 Axes>"
      ]
     },
     "metadata": {
      "needs_background": "light"
     },
     "output_type": "display_data"
    }
   ],
   "source": [
    "plt.hist(messages[messages['label'] == 'ham']['length'], bins = 100, alpha = 0.7)\n",
    "plt.hist(messages[messages['label'] == 'spam']['length'], bins = 100, alpha = 0.7)\n",
    "plt.show()"
   ]
  },
  {
   "cell_type": "markdown",
   "metadata": {},
   "source": [
    "Whenever the length of the message is high (orange), the probability for it to be a spam message, is high."
   ]
  },
  {
   "cell_type": "code",
   "execution_count": 21,
   "metadata": {
    "execution": {
     "iopub.execute_input": "2023-02-01T17:26:16.892090Z",
     "iopub.status.busy": "2023-02-01T17:26:16.891284Z",
     "iopub.status.idle": "2023-02-01T17:26:17.401478Z",
     "shell.execute_reply": "2023-02-01T17:26:17.400436Z",
     "shell.execute_reply.started": "2023-02-01T17:26:16.892043Z"
    }
   },
   "outputs": [
    {
     "data": {
      "image/png": "[encoded data removed]",
      "text/plain": [
       "<Figure size 432x288 with 1 Axes>"
      ]
     },
     "metadata": {
      "needs_background": "light"
     },
     "output_type": "display_data"
    }
   ],
   "source": [
    "plt.hist(messages[messages['label'] == 'ham']['punct'], bins = 100, alpha = 0.7)\n",
    "plt.hist(messages[messages['label'] == 'spam']['punct'], bins = 100, alpha = 0.7)\n",
    "plt.show()"
   ]
  },
  {
   "cell_type": "markdown",
   "metadata": {},
   "source": [
    "We see as above, this column punct does not affect the classification of the messages as ham or spam.\n"
   ]
  },
  {
   "cell_type": "markdown",
   "metadata": {},
   "source": [
    "## Split the train and test data"
   ]
  },
  {
   "cell_type": "code",
   "execution_count": 22,
   "metadata": {
    "execution": {
     "iopub.execute_input": "2023-02-01T17:31:56.592460Z",
     "iopub.status.busy": "2023-02-01T17:31:56.591998Z",
     "iopub.status.idle": "2023-02-01T17:31:57.048354Z",
     "shell.execute_reply": "2023-02-01T17:31:57.047390Z",
     "shell.execute_reply.started": "2023-02-01T17:31:56.592426Z"
    }
   },
   "outputs": [],
   "source": [
    "from sklearn.model_selection import train_test_split\n",
    "X_train, X_test, y_train, y_test =  train_test_split(messages['message'], messages['label'], test_size = 0.3, random_state = 0, shuffle = True)"
   ]
  },
  {
   "cell_type": "code",
   "execution_count": 23,
   "metadata": {
    "execution": {
     "iopub.execute_input": "2023-02-01T17:32:10.211047Z",
     "iopub.status.busy": "2023-02-01T17:32:10.210660Z",
     "iopub.status.idle": "2023-02-01T17:32:10.219903Z",
     "shell.execute_reply": "2023-02-01T17:32:10.218597Z",
     "shell.execute_reply.started": "2023-02-01T17:32:10.211017Z"
    }
   },
   "outputs": [
    {
     "data": {
      "text/plain": [
       "1438      You have 1 new message. Please call 08715205273\n",
       "431     Also that chat was awesome but don't make it r...\n",
       "194     Msgs r not time pass.They silently say that I ...\n",
       "240             Ok da, i already planned. I wil pick you.\n",
       "1309    Had your mobile 11 months or more? U R entitle...\n",
       "                              ...                        \n",
       "763     Your free ringtone is waiting to be collected....\n",
       "835     XCLUSIVE@CLUBSAISAI 2MOROW 28/5 SOIREE SPECIAL...\n",
       "1216    Dorothy@kiefer.com (Bank of Granite issues Str...\n",
       "559                         Oh yeah clearly it's my fault\n",
       "684     Are you happy baby ? Are you alright ? Did you...\n",
       "Name: message, Length: 1045, dtype: object"
      ]
     },
     "execution_count": 23,
     "metadata": {},
     "output_type": "execute_result"
    }
   ],
   "source": [
    "X_train"
   ]
  },
  {
   "cell_type": "code",
   "execution_count": 24,
   "metadata": {
    "execution": {
     "iopub.execute_input": "2023-02-01T17:32:19.488644Z",
     "iopub.status.busy": "2023-02-01T17:32:19.487678Z",
     "iopub.status.idle": "2023-02-01T17:32:19.498824Z",
     "shell.execute_reply": "2023-02-01T17:32:19.497270Z",
     "shell.execute_reply.started": "2023-02-01T17:32:19.488593Z"
    }
   },
   "outputs": [
    {
     "data": {
      "text/plain": [
       "(1045,)"
      ]
     },
     "execution_count": 24,
     "metadata": {},
     "output_type": "execute_result"
    }
   ],
   "source": [
    "X_train.shape"
   ]
  },
  {
   "cell_type": "code",
   "execution_count": 25,
   "metadata": {
    "execution": {
     "iopub.execute_input": "2023-02-01T17:32:30.923393Z",
     "iopub.status.busy": "2023-02-01T17:32:30.923000Z",
     "iopub.status.idle": "2023-02-01T17:32:30.931829Z",
     "shell.execute_reply": "2023-02-01T17:32:30.930686Z",
     "shell.execute_reply.started": "2023-02-01T17:32:30.923335Z"
    }
   },
   "outputs": [
    {
     "data": {
      "text/plain": [
       "799     Ur cash-balance is currently 500 pounds - to m...\n",
       "1047    FreeMsg: Hey - I'm Buffy. 25 and love to satis...\n",
       "1436    TheMob>Hit the link to get a premium Pink Pant...\n",
       "54      ME 2 BABE I FEEL THE SAME LETS JUST 4GET ABOUT...\n",
       "793     Think ur smart ? Win £200 this week in our wee...\n",
       "                              ...                        \n",
       "824     You will recieve your tone within the next 24h...\n",
       "822     URGENT!: Your Mobile No. was awarded a £2,000 ...\n",
       "644                            Oh my God. I'm almost home\n",
       "1034    Sexy Singles are waiting for you! Text your AG...\n",
       "1356    Congrats! 2 mobile 3G Videophones R yours. cal...\n",
       "Name: message, Length: 449, dtype: object"
      ]
     },
     "execution_count": 25,
     "metadata": {},
     "output_type": "execute_result"
    }
   ],
   "source": [
    "X_test"
   ]
  },
  {
   "cell_type": "code",
   "execution_count": 26,
   "metadata": {
    "execution": {
     "iopub.execute_input": "2023-02-01T17:32:57.523308Z",
     "iopub.status.busy": "2023-02-01T17:32:57.522893Z",
     "iopub.status.idle": "2023-02-01T17:32:57.529706Z",
     "shell.execute_reply": "2023-02-01T17:32:57.528722Z",
     "shell.execute_reply.started": "2023-02-01T17:32:57.523272Z"
    }
   },
   "outputs": [
    {
     "data": {
      "text/plain": [
       "(449,)"
      ]
     },
     "execution_count": 26,
     "metadata": {},
     "output_type": "execute_result"
    }
   ],
   "source": [
    "X_test.shape"
   ]
  },
  {
   "cell_type": "code",
   "execution_count": 27,
   "metadata": {
    "execution": {
     "iopub.execute_input": "2023-02-01T17:33:07.665573Z",
     "iopub.status.busy": "2023-02-01T17:33:07.665179Z",
     "iopub.status.idle": "2023-02-01T17:33:07.674222Z",
     "shell.execute_reply": "2023-02-01T17:33:07.673137Z",
     "shell.execute_reply.started": "2023-02-01T17:33:07.665541Z"
    }
   },
   "outputs": [
    {
     "data": {
      "text/plain": [
       "1438    spam\n",
       "431      ham\n",
       "194      ham\n",
       "240      ham\n",
       "1309    spam\n",
       "        ... \n",
       "763     spam\n",
       "835     spam\n",
       "1216    spam\n",
       "559      ham\n",
       "684      ham\n",
       "Name: label, Length: 1045, dtype: object"
      ]
     },
     "execution_count": 27,
     "metadata": {},
     "output_type": "execute_result"
    }
   ],
   "source": [
    "y_train"
   ]
  },
  {
   "cell_type": "code",
   "execution_count": 28,
   "metadata": {
    "execution": {
     "iopub.execute_input": "2023-02-01T17:33:15.720860Z",
     "iopub.status.busy": "2023-02-01T17:33:15.720485Z",
     "iopub.status.idle": "2023-02-01T17:33:15.728030Z",
     "shell.execute_reply": "2023-02-01T17:33:15.727097Z",
     "shell.execute_reply.started": "2023-02-01T17:33:15.720830Z"
    }
   },
   "outputs": [
    {
     "data": {
      "text/plain": [
       "(1045,)"
      ]
     },
     "execution_count": 28,
     "metadata": {},
     "output_type": "execute_result"
    }
   ],
   "source": [
    "y_train.shape"
   ]
  },
  {
   "cell_type": "code",
   "execution_count": 29,
   "metadata": {
    "execution": {
     "iopub.execute_input": "2023-02-01T17:33:27.878833Z",
     "iopub.status.busy": "2023-02-01T17:33:27.878367Z",
     "iopub.status.idle": "2023-02-01T17:33:27.888657Z",
     "shell.execute_reply": "2023-02-01T17:33:27.887352Z",
     "shell.execute_reply.started": "2023-02-01T17:33:27.878798Z"
    }
   },
   "outputs": [
    {
     "data": {
      "text/plain": [
       "799     spam\n",
       "1047    spam\n",
       "1436    spam\n",
       "54       ham\n",
       "793     spam\n",
       "        ... \n",
       "824     spam\n",
       "822     spam\n",
       "644      ham\n",
       "1034    spam\n",
       "1356    spam\n",
       "Name: label, Length: 449, dtype: object"
      ]
     },
     "execution_count": 29,
     "metadata": {},
     "output_type": "execute_result"
    }
   ],
   "source": [
    "y_test"
   ]
  },
  {
   "cell_type": "code",
   "execution_count": 30,
   "metadata": {
    "execution": {
     "iopub.execute_input": "2023-02-01T17:33:35.666029Z",
     "iopub.status.busy": "2023-02-01T17:33:35.665622Z",
     "iopub.status.idle": "2023-02-01T17:33:35.674065Z",
     "shell.execute_reply": "2023-02-01T17:33:35.672766Z",
     "shell.execute_reply.started": "2023-02-01T17:33:35.665996Z"
    }
   },
   "outputs": [
    {
     "data": {
      "text/plain": [
       "(449,)"
      ]
     },
     "execution_count": 30,
     "metadata": {},
     "output_type": "execute_result"
    }
   ],
   "source": [
    "y_test.shape"
   ]
  },
  {
   "cell_type": "markdown",
   "metadata": {},
   "source": [
    "## Building the Random Forest Model"
   ]
  },
  {
   "cell_type": "code",
   "execution_count": 31,
   "metadata": {
    "execution": {
     "iopub.execute_input": "2023-02-01T17:39:38.747438Z",
     "iopub.status.busy": "2023-02-01T17:39:38.746985Z",
     "iopub.status.idle": "2023-02-01T17:39:38.970272Z",
     "shell.execute_reply": "2023-02-01T17:39:38.969393Z",
     "shell.execute_reply.started": "2023-02-01T17:39:38.747403Z"
    }
   },
   "outputs": [],
   "source": [
    "from sklearn.feature_extraction.text import TfidfVectorizer\n",
    "from sklearn.ensemble import RandomForestClassifier\n",
    "from sklearn.pipeline import Pipeline"
   ]
  },
  {
   "cell_type": "markdown",
   "metadata": {},
   "source": [
    "## Feature extraction - Convert textual data to numbers using tfidf encoding technique"
   ]
  },
  {
   "cell_type": "code",
   "execution_count": 32,
   "metadata": {
    "execution": {
     "iopub.execute_input": "2023-02-01T17:40:08.455012Z",
     "iopub.status.busy": "2023-02-01T17:40:08.454612Z",
     "iopub.status.idle": "2023-02-01T17:40:08.461323Z",
     "shell.execute_reply": "2023-02-01T17:40:08.459897Z",
     "shell.execute_reply.started": "2023-02-01T17:40:08.454977Z"
    }
   },
   "outputs": [],
   "source": [
    "classifier = Pipeline([(\"tfidf\", TfidfVectorizer()) , (\"classifier\", RandomForestClassifier(n_estimators=100))])"
   ]
  },
  {
   "cell_type": "markdown",
   "metadata": {},
   "source": [
    "We have created a pipeline object and passed TfidfVectorizer() and RandomForestClassifier() as a list.\n",
    "\n",
    "RandomForestClassifier() has a lot of hyperparameters. n_estimators is one of them."
   ]
  },
  {
   "cell_type": "code",
   "execution_count": 33,
   "metadata": {
    "execution": {
     "iopub.execute_input": "2023-02-01T17:40:23.844450Z",
     "iopub.status.busy": "2023-02-01T17:40:23.844024Z",
     "iopub.status.idle": "2023-02-01T17:40:23.857268Z",
     "shell.execute_reply": "2023-02-01T17:40:23.855889Z",
     "shell.execute_reply.started": "2023-02-01T17:40:23.844415Z"
    }
   },
   "outputs": [
    {
     "data": {
      "text/plain": [
       "Pipeline(steps=[('tfidf', TfidfVectorizer()),\n",
       "                ('classifier', RandomForestClassifier())])"
      ]
     },
     "execution_count": 33,
     "metadata": {},
     "output_type": "execute_result"
    }
   ],
   "source": [
    "classifier"
   ]
  },
  {
   "cell_type": "code",
   "execution_count": 34,
   "metadata": {
    "execution": {
     "iopub.execute_input": "2023-02-01T17:47:30.332886Z",
     "iopub.status.busy": "2023-02-01T17:47:30.332471Z",
     "iopub.status.idle": "2023-02-01T17:47:30.720171Z",
     "shell.execute_reply": "2023-02-01T17:47:30.719085Z",
     "shell.execute_reply.started": "2023-02-01T17:47:30.332853Z"
    }
   },
   "outputs": [
    {
     "data": {
      "text/plain": [
       "Pipeline(steps=[('tfidf', TfidfVectorizer()),\n",
       "                ('classifier', RandomForestClassifier())])"
      ]
     },
     "execution_count": 34,
     "metadata": {},
     "output_type": "execute_result"
    }
   ],
   "source": [
    "## training \n",
    "classifier.fit(X_train, y_train)"
   ]
  },
  {
   "cell_type": "markdown",
   "metadata": {},
   "source": [
    "## Predicting the Random Forest results"
   ]
  },
  {
   "cell_type": "code",
   "execution_count": 35,
   "metadata": {
    "execution": {
     "iopub.execute_input": "2023-02-01T17:55:09.371394Z",
     "iopub.status.busy": "2023-02-01T17:55:09.370967Z",
     "iopub.status.idle": "2023-02-01T17:55:09.417098Z",
     "shell.execute_reply": "2023-02-01T17:55:09.416026Z",
     "shell.execute_reply.started": "2023-02-01T17:55:09.371357Z"
    }
   },
   "outputs": [
    {
     "data": {
      "text/plain": [
       "array(['spam', 'spam', 'spam', 'ham', 'spam', 'spam', 'ham', 'ham', 'ham',\n",
       "       'ham', 'spam', 'ham', 'spam', 'spam', 'spam', 'spam', 'spam',\n",
       "       'ham', 'spam', 'spam', 'spam', 'ham', 'spam', 'spam', 'ham',\n",
       "       'spam', 'ham', 'ham', 'spam', 'ham', 'ham', 'spam', 'spam', 'spam',\n",
       "       'spam', 'spam', 'ham', 'ham', 'ham', 'ham', 'spam', 'ham', 'spam',\n",
       "       'ham', 'ham', 'spam', 'ham', 'ham', 'spam', 'spam', 'ham', 'ham',\n",
       "       'ham', 'spam', 'spam', 'spam', 'ham', 'ham', 'spam', 'ham', 'ham',\n",
       "       'ham', 'ham', 'spam', 'spam', 'ham', 'ham', 'ham', 'spam', 'spam',\n",
       "       'spam', 'spam', 'spam', 'ham', 'ham', 'spam', 'spam', 'ham', 'ham',\n",
       "       'ham', 'spam', 'ham', 'ham', 'ham', 'ham', 'spam', 'spam', 'ham',\n",
       "       'spam', 'ham', 'ham', 'spam', 'ham', 'ham', 'spam', 'spam', 'spam',\n",
       "       'ham', 'ham', 'ham', 'spam', 'ham', 'ham', 'spam', 'ham', 'ham',\n",
       "       'ham', 'ham', 'spam', 'spam', 'spam', 'ham', 'ham', 'ham', 'ham',\n",
       "       'spam', 'spam', 'ham', 'spam', 'ham', 'ham', 'ham', 'ham', 'ham',\n",
       "       'ham', 'ham', 'ham', 'ham', 'ham', 'spam', 'ham', 'spam', 'spam',\n",
       "       'ham', 'spam', 'spam', 'spam', 'spam', 'spam', 'spam', 'ham',\n",
       "       'ham', 'ham', 'ham', 'ham', 'spam', 'spam', 'spam', 'ham', 'spam',\n",
       "       'ham', 'spam', 'ham', 'spam', 'ham', 'ham', 'spam', 'ham', 'ham',\n",
       "       'ham', 'ham', 'ham', 'ham', 'spam', 'spam', 'ham', 'ham', 'ham',\n",
       "       'ham', 'spam', 'ham', 'spam', 'spam', 'ham', 'spam', 'ham', 'spam',\n",
       "       'ham', 'ham', 'ham', 'spam', 'ham', 'spam', 'spam', 'spam', 'spam',\n",
       "       'spam', 'ham', 'ham', 'ham', 'ham', 'ham', 'ham', 'ham', 'ham',\n",
       "       'spam', 'ham', 'spam', 'spam', 'spam', 'ham', 'spam', 'ham', 'ham',\n",
       "       'spam', 'ham', 'spam', 'spam', 'spam', 'spam', 'ham', 'ham', 'ham',\n",
       "       'ham', 'ham', 'ham', 'ham', 'spam', 'spam', 'spam', 'ham', 'ham',\n",
       "       'spam', 'spam', 'ham', 'ham', 'spam', 'ham', 'spam', 'spam', 'ham',\n",
       "       'ham', 'ham', 'spam', 'spam', 'spam', 'spam', 'spam', 'ham',\n",
       "       'spam', 'spam', 'spam', 'ham', 'ham', 'spam', 'spam', 'ham', 'ham',\n",
       "       'ham', 'spam', 'spam', 'ham', 'ham', 'ham', 'ham', 'spam', 'spam',\n",
       "       'ham', 'ham', 'spam', 'ham', 'spam', 'spam', 'ham', 'spam', 'ham',\n",
       "       'ham', 'spam', 'ham', 'spam', 'ham', 'ham', 'spam', 'ham', 'spam',\n",
       "       'spam', 'spam', 'ham', 'spam', 'ham', 'spam', 'spam', 'ham',\n",
       "       'spam', 'ham', 'spam', 'spam', 'ham', 'spam', 'spam', 'spam',\n",
       "       'ham', 'spam', 'spam', 'ham', 'ham', 'spam', 'ham', 'ham', 'ham',\n",
       "       'spam', 'spam', 'spam', 'ham', 'ham', 'ham', 'ham', 'ham', 'spam',\n",
       "       'spam', 'ham', 'ham', 'spam', 'spam', 'spam', 'spam', 'ham',\n",
       "       'spam', 'spam', 'spam', 'ham', 'ham', 'ham', 'ham', 'spam', 'ham',\n",
       "       'ham', 'spam', 'spam', 'ham', 'spam', 'ham', 'spam', 'ham', 'ham',\n",
       "       'ham', 'spam', 'ham', 'spam', 'ham', 'ham', 'ham', 'spam', 'spam',\n",
       "       'spam', 'ham', 'ham', 'spam', 'spam', 'ham', 'ham', 'spam', 'spam',\n",
       "       'ham', 'ham', 'ham', 'ham', 'spam', 'ham', 'ham', 'ham', 'spam',\n",
       "       'ham', 'ham', 'spam', 'spam', 'spam', 'ham', 'ham', 'ham', 'ham',\n",
       "       'ham', 'ham', 'spam', 'ham', 'ham', 'ham', 'spam', 'ham', 'ham',\n",
       "       'ham', 'ham', 'spam', 'spam', 'ham', 'spam', 'spam', 'spam', 'ham',\n",
       "       'ham', 'spam', 'ham', 'ham', 'spam', 'ham', 'ham', 'ham', 'ham',\n",
       "       'spam', 'ham', 'ham', 'spam', 'ham', 'ham', 'spam', 'ham', 'ham',\n",
       "       'spam', 'spam', 'ham', 'ham', 'spam', 'spam', 'ham', 'ham', 'spam',\n",
       "       'spam', 'spam', 'ham', 'ham', 'ham', 'spam', 'spam', 'ham', 'spam',\n",
       "       'ham', 'ham', 'ham', 'ham', 'spam', 'ham', 'ham', 'spam', 'ham',\n",
       "       'spam', 'ham', 'ham', 'spam', 'ham', 'spam', 'spam', 'spam', 'ham',\n",
       "       'spam', 'spam', 'spam', 'ham', 'spam', 'spam'], dtype=object)"
      ]
     },
     "execution_count": 35,
     "metadata": {},
     "output_type": "execute_result"
    }
   ],
   "source": [
    "y_pred = classifier.predict(X_test)\n",
    "y_pred"
   ]
  },
  {
   "cell_type": "code",
   "execution_count": 36,
   "metadata": {
    "execution": {
     "iopub.execute_input": "2023-02-01T18:00:34.280803Z",
     "iopub.status.busy": "2023-02-01T18:00:34.280446Z",
     "iopub.status.idle": "2023-02-01T18:00:34.289657Z",
     "shell.execute_reply": "2023-02-01T18:00:34.288635Z",
     "shell.execute_reply.started": "2023-02-01T18:00:34.280774Z"
    }
   },
   "outputs": [
    {
     "data": {
      "text/plain": [
       "799     spam\n",
       "1047    spam\n",
       "1436    spam\n",
       "54       ham\n",
       "793     spam\n",
       "        ... \n",
       "824     spam\n",
       "822     spam\n",
       "644      ham\n",
       "1034    spam\n",
       "1356    spam\n",
       "Name: label, Length: 449, dtype: object"
      ]
     },
     "execution_count": 36,
     "metadata": {},
     "output_type": "execute_result"
    }
   ],
   "source": [
    "y_test"
   ]
  },
  {
   "cell_type": "code",
   "execution_count": 37,
   "metadata": {
    "execution": {
     "iopub.execute_input": "2023-02-01T18:01:42.745387Z",
     "iopub.status.busy": "2023-02-01T18:01:42.744958Z",
     "iopub.status.idle": "2023-02-01T18:01:42.750175Z",
     "shell.execute_reply": "2023-02-01T18:01:42.749211Z",
     "shell.execute_reply.started": "2023-02-01T18:01:42.745329Z"
    }
   },
   "outputs": [],
   "source": [
    "## Get the accuracy score of the classification\n",
    "\n",
    "from sklearn.metrics import classification_report, accuracy_score, confusion_matrix"
   ]
  },
  {
   "cell_type": "code",
   "execution_count": 38,
   "metadata": {
    "execution": {
     "iopub.execute_input": "2023-02-01T18:02:00.322981Z",
     "iopub.status.busy": "2023-02-01T18:02:00.322577Z",
     "iopub.status.idle": "2023-02-01T18:02:00.331293Z",
     "shell.execute_reply": "2023-02-01T18:02:00.330234Z",
     "shell.execute_reply.started": "2023-02-01T18:02:00.322948Z"
    }
   },
   "outputs": [
    {
     "data": {
      "text/plain": [
       "0.9532293986636972"
      ]
     },
     "execution_count": 38,
     "metadata": {},
     "output_type": "execute_result"
    }
   ],
   "source": [
    "accuracy_score(y_test, y_pred)"
   ]
  },
  {
   "cell_type": "code",
   "execution_count": 39,
   "metadata": {
    "execution": {
     "iopub.execute_input": "2023-02-01T18:02:48.825894Z",
     "iopub.status.busy": "2023-02-01T18:02:48.825458Z",
     "iopub.status.idle": "2023-02-01T18:02:48.832616Z",
     "shell.execute_reply": "2023-02-01T18:02:48.831498Z",
     "shell.execute_reply.started": "2023-02-01T18:02:48.825860Z"
    }
   },
   "outputs": [
    {
     "data": {
      "text/plain": [
       "425.0"
      ]
     },
     "execution_count": 39,
     "metadata": {},
     "output_type": "execute_result"
    }
   ],
   "source": [
    "0.9465478841870824 * 449 # 449 testing records"
   ]
  },
  {
   "cell_type": "markdown",
   "metadata": {},
   "source": [
    " We got 425/449 samples right."
   ]
  },
  {
   "cell_type": "code",
   "execution_count": 40,
   "metadata": {
    "execution": {
     "iopub.execute_input": "2023-02-01T18:03:35.258693Z",
     "iopub.status.busy": "2023-02-01T18:03:35.258276Z",
     "iopub.status.idle": "2023-02-01T18:03:35.267761Z",
     "shell.execute_reply": "2023-02-01T18:03:35.266693Z",
     "shell.execute_reply.started": "2023-02-01T18:03:35.258659Z"
    }
   },
   "outputs": [
    {
     "data": {
      "text/plain": [
       "array([[225,   2],\n",
       "       [ 19, 203]])"
      ]
     },
     "execution_count": 40,
     "metadata": {},
     "output_type": "execute_result"
    }
   ],
   "source": [
    "confusion_matrix(y_test, y_pred)"
   ]
  },
  {
   "cell_type": "markdown",
   "metadata": {},
   "source": [
    "225, 203 were right\n",
    "\n",
    "2, 19 were wrong"
   ]
  },
  {
   "cell_type": "code",
   "execution_count": 42,
   "metadata": {
    "execution": {
     "iopub.execute_input": "2023-02-01T18:05:00.163661Z",
     "iopub.status.busy": "2023-02-01T18:05:00.163277Z",
     "iopub.status.idle": "2023-02-01T18:05:00.185955Z",
     "shell.execute_reply": "2023-02-01T18:05:00.184077Z",
     "shell.execute_reply.started": "2023-02-01T18:05:00.163631Z"
    }
   },
   "outputs": [
    {
     "name": "stdout",
     "output_type": "stream",
     "text": [
      "              precision    recall  f1-score   support\n",
      "\n",
      "         ham       0.92      0.99      0.96       227\n",
      "        spam       0.99      0.91      0.95       222\n",
      "\n",
      "    accuracy                           0.95       449\n",
      "   macro avg       0.96      0.95      0.95       449\n",
      "weighted avg       0.96      0.95      0.95       449\n",
      "\n"
     ]
    }
   ],
   "source": [
    "print(classification_report(y_test, y_pred))"
   ]
  },
  {
   "cell_type": "markdown",
   "metadata": {},
   "source": [
    "## Building the SVM Model"
   ]
  },
  {
   "cell_type": "code",
   "execution_count": 43,
   "metadata": {
    "execution": {
     "iopub.execute_input": "2023-02-01T18:06:31.151728Z",
     "iopub.status.busy": "2023-02-01T18:06:31.151336Z",
     "iopub.status.idle": "2023-02-01T18:06:31.414462Z",
     "shell.execute_reply": "2023-02-01T18:06:31.413388Z",
     "shell.execute_reply.started": "2023-02-01T18:06:31.151697Z"
    }
   },
   "outputs": [
    {
     "data": {
      "text/plain": [
       "Pipeline(steps=[('tfidf', TfidfVectorizer()),\n",
       "                ('classifier', SVC(C=100, gamma='auto'))])"
      ]
     },
     "execution_count": 43,
     "metadata": {},
     "output_type": "execute_result"
    }
   ],
   "source": [
    "from sklearn.svm import SVC\n",
    "svm = Pipeline([(\"tfidf\", TfidfVectorizer()) , (\"classifier\", SVC(C = 100, gamma='auto'))])\n",
    "svm.fit(X_train, y_train)"
   ]
  },
  {
   "cell_type": "markdown",
   "metadata": {},
   "source": [
    "## Predicting the SVM results"
   ]
  },
  {
   "cell_type": "code",
   "execution_count": 44,
   "metadata": {
    "execution": {
     "iopub.execute_input": "2023-02-01T18:07:37.387016Z",
     "iopub.status.busy": "2023-02-01T18:07:37.385795Z",
     "iopub.status.idle": "2023-02-01T18:07:37.507887Z",
     "shell.execute_reply": "2023-02-01T18:07:37.506879Z",
     "shell.execute_reply.started": "2023-02-01T18:07:37.386967Z"
    }
   },
   "outputs": [
    {
     "data": {
      "text/plain": [
       "array(['spam', 'spam', 'spam', 'ham', 'spam', 'spam', 'ham', 'ham', 'ham',\n",
       "       'ham', 'spam', 'ham', 'spam', 'spam', 'spam', 'spam', 'spam',\n",
       "       'ham', 'spam', 'spam', 'spam', 'ham', 'spam', 'spam', 'ham',\n",
       "       'spam', 'ham', 'ham', 'spam', 'ham', 'ham', 'spam', 'spam', 'spam',\n",
       "       'spam', 'spam', 'ham', 'ham', 'ham', 'ham', 'spam', 'ham', 'spam',\n",
       "       'ham', 'ham', 'spam', 'ham', 'ham', 'spam', 'spam', 'ham', 'ham',\n",
       "       'ham', 'spam', 'spam', 'spam', 'ham', 'ham', 'spam', 'ham', 'ham',\n",
       "       'ham', 'ham', 'spam', 'spam', 'ham', 'ham', 'ham', 'spam', 'spam',\n",
       "       'spam', 'spam', 'spam', 'ham', 'ham', 'spam', 'spam', 'ham', 'ham',\n",
       "       'ham', 'ham', 'ham', 'ham', 'ham', 'ham', 'spam', 'spam', 'ham',\n",
       "       'spam', 'ham', 'ham', 'spam', 'ham', 'ham', 'spam', 'spam', 'spam',\n",
       "       'ham', 'ham', 'ham', 'spam', 'ham', 'ham', 'spam', 'ham', 'ham',\n",
       "       'ham', 'ham', 'spam', 'spam', 'spam', 'ham', 'ham', 'ham', 'ham',\n",
       "       'spam', 'spam', 'ham', 'spam', 'ham', 'spam', 'ham', 'ham', 'ham',\n",
       "       'ham', 'ham', 'ham', 'ham', 'spam', 'spam', 'ham', 'spam', 'spam',\n",
       "       'ham', 'spam', 'spam', 'spam', 'spam', 'spam', 'spam', 'ham',\n",
       "       'ham', 'ham', 'ham', 'ham', 'spam', 'spam', 'spam', 'ham', 'ham',\n",
       "       'ham', 'spam', 'ham', 'spam', 'ham', 'ham', 'spam', 'ham', 'ham',\n",
       "       'ham', 'ham', 'ham', 'ham', 'spam', 'spam', 'ham', 'ham', 'ham',\n",
       "       'ham', 'spam', 'ham', 'spam', 'spam', 'ham', 'spam', 'ham', 'ham',\n",
       "       'ham', 'ham', 'ham', 'spam', 'ham', 'spam', 'spam', 'spam', 'spam',\n",
       "       'spam', 'ham', 'ham', 'ham', 'ham', 'ham', 'ham', 'ham', 'ham',\n",
       "       'spam', 'ham', 'spam', 'spam', 'spam', 'ham', 'spam', 'ham', 'ham',\n",
       "       'spam', 'ham', 'spam', 'spam', 'spam', 'spam', 'ham', 'ham', 'ham',\n",
       "       'ham', 'ham', 'ham', 'spam', 'spam', 'spam', 'spam', 'ham', 'ham',\n",
       "       'spam', 'spam', 'ham', 'ham', 'spam', 'ham', 'spam', 'spam', 'ham',\n",
       "       'ham', 'ham', 'ham', 'spam', 'spam', 'spam', 'spam', 'ham', 'spam',\n",
       "       'spam', 'ham', 'ham', 'ham', 'spam', 'spam', 'ham', 'ham', 'ham',\n",
       "       'spam', 'spam', 'ham', 'ham', 'ham', 'ham', 'spam', 'spam', 'ham',\n",
       "       'ham', 'spam', 'ham', 'spam', 'spam', 'ham', 'ham', 'ham', 'ham',\n",
       "       'spam', 'ham', 'spam', 'ham', 'ham', 'spam', 'ham', 'spam', 'spam',\n",
       "       'spam', 'ham', 'spam', 'ham', 'spam', 'spam', 'ham', 'spam', 'ham',\n",
       "       'spam', 'spam', 'ham', 'spam', 'spam', 'spam', 'ham', 'spam',\n",
       "       'spam', 'ham', 'ham', 'spam', 'ham', 'ham', 'ham', 'spam', 'spam',\n",
       "       'spam', 'ham', 'ham', 'ham', 'ham', 'ham', 'spam', 'spam', 'ham',\n",
       "       'ham', 'spam', 'spam', 'spam', 'spam', 'ham', 'spam', 'spam',\n",
       "       'spam', 'ham', 'ham', 'ham', 'ham', 'spam', 'ham', 'ham', 'spam',\n",
       "       'spam', 'ham', 'spam', 'ham', 'spam', 'ham', 'ham', 'spam', 'spam',\n",
       "       'ham', 'spam', 'ham', 'spam', 'ham', 'spam', 'spam', 'spam', 'ham',\n",
       "       'ham', 'spam', 'spam', 'ham', 'ham', 'spam', 'spam', 'ham', 'spam',\n",
       "       'ham', 'ham', 'spam', 'ham', 'ham', 'ham', 'spam', 'ham', 'ham',\n",
       "       'spam', 'spam', 'spam', 'ham', 'ham', 'spam', 'ham', 'ham', 'ham',\n",
       "       'spam', 'ham', 'ham', 'ham', 'spam', 'ham', 'ham', 'ham', 'ham',\n",
       "       'spam', 'spam', 'ham', 'spam', 'spam', 'spam', 'ham', 'ham',\n",
       "       'spam', 'ham', 'ham', 'spam', 'ham', 'spam', 'ham', 'ham', 'spam',\n",
       "       'ham', 'ham', 'spam', 'ham', 'ham', 'spam', 'ham', 'ham', 'spam',\n",
       "       'spam', 'spam', 'ham', 'spam', 'spam', 'spam', 'ham', 'ham', 'ham',\n",
       "       'spam', 'ham', 'ham', 'ham', 'spam', 'spam', 'ham', 'spam', 'ham',\n",
       "       'ham', 'ham', 'ham', 'spam', 'ham', 'ham', 'spam', 'ham', 'spam',\n",
       "       'ham', 'ham', 'spam', 'ham', 'spam', 'spam', 'spam', 'ham', 'spam',\n",
       "       'ham', 'spam', 'ham', 'spam', 'spam'], dtype=object)"
      ]
     },
     "execution_count": 44,
     "metadata": {},
     "output_type": "execute_result"
    }
   ],
   "source": [
    "y_pred = svm.predict(X_test)\n",
    "y_pred"
   ]
  },
  {
   "cell_type": "code",
   "execution_count": 45,
   "metadata": {
    "execution": {
     "iopub.execute_input": "2023-02-01T18:07:51.411512Z",
     "iopub.status.busy": "2023-02-01T18:07:51.411075Z",
     "iopub.status.idle": "2023-02-01T18:07:51.420798Z",
     "shell.execute_reply": "2023-02-01T18:07:51.419565Z",
     "shell.execute_reply.started": "2023-02-01T18:07:51.411473Z"
    }
   },
   "outputs": [
    {
     "data": {
      "text/plain": [
       "0.9420935412026726"
      ]
     },
     "execution_count": 45,
     "metadata": {},
     "output_type": "execute_result"
    }
   ],
   "source": [
    "accuracy_score(y_test, y_pred)"
   ]
  },
  {
   "cell_type": "code",
   "execution_count": 46,
   "metadata": {
    "execution": {
     "iopub.execute_input": "2023-02-01T18:08:16.363844Z",
     "iopub.status.busy": "2023-02-01T18:08:16.363454Z",
     "iopub.status.idle": "2023-02-01T18:08:16.373501Z",
     "shell.execute_reply": "2023-02-01T18:08:16.372577Z",
     "shell.execute_reply.started": "2023-02-01T18:08:16.363812Z"
    }
   },
   "outputs": [
    {
     "data": {
      "text/plain": [
       "array([[222,   5],\n",
       "       [ 21, 201]])"
      ]
     },
     "execution_count": 46,
     "metadata": {},
     "output_type": "execute_result"
    }
   ],
   "source": [
    "confusion_matrix(y_test, y_pred)"
   ]
  },
  {
   "cell_type": "code",
   "execution_count": 47,
   "metadata": {
    "execution": {
     "iopub.execute_input": "2023-02-01T18:08:35.917052Z",
     "iopub.status.busy": "2023-02-01T18:08:35.916661Z",
     "iopub.status.idle": "2023-02-01T18:08:35.942376Z",
     "shell.execute_reply": "2023-02-01T18:08:35.940916Z",
     "shell.execute_reply.started": "2023-02-01T18:08:35.917017Z"
    }
   },
   "outputs": [
    {
     "name": "stdout",
     "output_type": "stream",
     "text": [
      "              precision    recall  f1-score   support\n",
      "\n",
      "         ham       0.91      0.98      0.94       227\n",
      "        spam       0.98      0.91      0.94       222\n",
      "\n",
      "    accuracy                           0.94       449\n",
      "   macro avg       0.94      0.94      0.94       449\n",
      "weighted avg       0.94      0.94      0.94       449\n",
      "\n"
     ]
    }
   ],
   "source": [
    "print(classification_report(y_test, y_pred))"
   ]
  },
  {
   "cell_type": "code",
   "execution_count": 48,
   "metadata": {
    "execution": {
     "iopub.execute_input": "2023-02-01T18:18:05.836515Z",
     "iopub.status.busy": "2023-02-01T18:18:05.836062Z",
     "iopub.status.idle": "2023-02-01T18:18:05.841862Z",
     "shell.execute_reply": "2023-02-01T18:18:05.840784Z",
     "shell.execute_reply.started": "2023-02-01T18:18:05.836479Z"
    }
   },
   "outputs": [],
   "source": [
    "message1 = [\"We will learn the basic structure of a sentiment analysis problem.\"]\n",
    "message2 = [\"Welcome to Data Science. Hope you're having fun learning.\"]\n",
    "message3 = [\"Congratulations on the new job\"]\n",
    "message4 = [\"Congratulations on winning the lottery worth $1 Million ! To claim call on 5674531234'\"]\n"
   ]
  },
  {
   "cell_type": "code",
   "execution_count": 49,
   "metadata": {
    "execution": {
     "iopub.execute_input": "2023-02-01T18:18:09.155587Z",
     "iopub.status.busy": "2023-02-01T18:18:09.154618Z",
     "iopub.status.idle": "2023-02-01T18:18:09.216054Z",
     "shell.execute_reply": "2023-02-01T18:18:09.215003Z",
     "shell.execute_reply.started": "2023-02-01T18:18:09.155544Z"
    }
   },
   "outputs": [
    {
     "name": "stdout",
     "output_type": "stream",
     "text": [
      "['ham']\n",
      "['ham']\n",
      "['ham']\n",
      "['spam']\n"
     ]
    }
   ],
   "source": [
    "print(classifier.predict(message1))\n",
    "print(classifier.predict(message2))\n",
    "print(classifier.predict(message3))\n",
    "print(classifier.predict(message4))"
   ]
  },
  {
   "cell_type": "code",
   "execution_count": 50,
   "metadata": {
    "execution": {
     "iopub.execute_input": "2023-02-01T18:18:50.872508Z",
     "iopub.status.busy": "2023-02-01T18:18:50.872124Z",
     "iopub.status.idle": "2023-02-01T18:18:50.885821Z",
     "shell.execute_reply": "2023-02-01T18:18:50.884953Z",
     "shell.execute_reply.started": "2023-02-01T18:18:50.872478Z"
    }
   },
   "outputs": [
    {
     "name": "stdout",
     "output_type": "stream",
     "text": [
      "['ham']\n",
      "['ham']\n",
      "['spam']\n",
      "['spam']\n"
     ]
    }
   ],
   "source": [
    "print(svm.predict(message1))\n",
    "print(svm.predict(message2))\n",
    "print(svm.predict(message3))\n",
    "print(svm.predict(message4))"
   ]
  }
 ],
 "metadata": {
  "kernelspec": {
   "display_name": "Python 3",
   "language": "python",
   "name": "python3"
  },
  "language_info": {
   "codemirror_mode": {
    "name": "ipython",
    "version": 3
   },
   "file_extension": ".py",
   "mimetype": "text/x-python",
   "name": "python",
   "nbconvert_exporter": "python",
   "pygments_lexer": "ipython3",
   "version": "3.8.5"
  }
 },
 "nbformat": 4,
 "nbformat_minor": 4
}
